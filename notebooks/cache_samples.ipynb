{
 "cells": [
  {
   "cell_type": "code",
   "execution_count": 1,
   "id": "sophisticated-participant",
   "metadata": {},
   "outputs": [
    {
     "name": "stdout",
     "output_type": "stream",
     "text": [
      "Added /work/cybai2020/PyTorch-StudioGAN/src to path\n",
      "Added /work/cybai2020/PyTorch-StudioGAN/cifar-10.1-pytorch to path\n",
      "Added /work/cybai2020/PyTorch-StudioGAN/data-copying to path\n",
      "Added /work/cybai2020/PyTorch-StudioGAN/PyTorch_CIFAR10 to path\n"
     ]
    }
   ],
   "source": [
    "import os\n",
    "import sys\n",
    "custom_paths = ['../src/', '../cifar-10.1-pytorch/', '../data-copying/', '../PyTorch_CIFAR10/']\n",
    "for path in custom_paths:\n",
    "    if os.path.abspath(path) not in sys.path:\n",
    "        sys.path.insert(0, os.path.abspath(path))\n",
    "        print(f\"Added {os.path.abspath(path)} to path\")"
   ]
  },
  {
   "cell_type": "code",
   "execution_count": 2,
   "id": "fiscal-ground",
   "metadata": {},
   "outputs": [],
   "source": [
    "import numpy as np\n",
    "import pandas as pd\n",
    "from tqdm import tqdm\n",
    "import functools\n",
    "from importlib import reload\n",
    "from matplotlib import pyplot as plt\n",
    "import scipy\n",
    "from scipy import stats\n",
    "from scipy.special import softmax\n",
    "import os\n",
    "import ast\n",
    "import glob\n",
    "import pickle\n",
    "import yaml\n",
    "\n",
    "from sklearn.decomposition import PCA\n",
    "from sklearn.cluster import KMeans \n",
    "\n",
    "import torch\n",
    "from torch.nn import Parameter as P\n",
    "import torch.nn.functional as F\n",
    "from torchvision import datasets, transforms\n",
    "from torch.utils.data import DataLoader\n",
    "\n",
    "# import custom\n",
    "\n",
    "import cifar10_models\n",
    "reload(cifar10_models)\n",
    "\n",
    "import cifar10_1\n",
    "reload(cifar10_1)\n",
    "\n",
    "from data_utils import cifair\n",
    "reload(cifair)\n",
    "\n",
    "from metrics.feat_extract_models import alexnet, inception, vgg\n",
    "reload(alexnet)\n",
    "reload(inception)\n",
    "reload(vgg)\n",
    "\n",
    "from utils import load_checkpoint\n",
    "reload(load_checkpoint)\n",
    "\n",
    "from metrics.FID import calculate_frechet_distance\n",
    "from models.reID import gan_proj_ft_net\n",
    "\n",
    "import misc\n",
    "reload(misc)\n",
    "\n",
    "import data_copying_tests\n",
    "reload(data_copying_tests)\n",
    "\n",
    "from run_infos import runs"
   ]
  },
  {
   "cell_type": "code",
   "execution_count": 3,
   "id": "corresponding-beverage",
   "metadata": {},
   "outputs": [],
   "source": [
    "os.environ[\"CUDA_VISIBLE_DEVICES\"] = \"3\"\n",
    "device = 'cuda'\n",
    "torch.backends.cudnn.benchmark = True"
   ]
  },
  {
   "cell_type": "code",
   "execution_count": 4,
   "id": "occasional-genetics",
   "metadata": {},
   "outputs": [],
   "source": [
    "# proj_model = inception.WrappedInception3().eval().to(device)\n",
    "\n",
    "with open('../Person_reID_baseline_pytorch/model/ft_ResNet50/opts.yaml', 'r') as stream:\n",
    "    config = yaml.safe_load(stream)\n",
    "proj_model = gan_proj_ft_net(config['nclasses'], stride=config['stride'])\n",
    "proj_model.load_state_dict(torch.load('../Person_reID_baseline_pytorch/model/ft_ResNet50/net_last.pth'))\n",
    "proj_model = proj_model.eval().to(device)"
   ]
  },
  {
   "cell_type": "code",
   "execution_count": null,
   "id": "annual-mother",
   "metadata": {},
   "outputs": [
    {
     "name": "stdout",
     "output_type": "stream",
     "text": [
      "cache to /tmp2/cybai/studiogan/cache/SAGAN-train-2021_03_04_15_20_57/best.npz\n",
      "(50000, 3, 32, 32) (50000,) (50000, 2048)\n",
      "cache to /tmp2/cybai/studiogan/cache/SAGAN-train-2021_03_09_00_54_36/best.npz\n",
      "(50000, 3, 32, 32) (50000,) (50000, 2048)\n",
      "cache to /tmp2/cybai/studiogan/cache/SAGAN-train-2021_03_10_10_00_29/best.npz\n",
      "(50000, 3, 32, 32) (50000,) (50000, 2048)\n",
      "cache to /tmp2/cybai/studiogan/cache/SAGAN-train-2021_03_17_13_42_52/best.npz\n",
      "(50000, 3, 32, 32) (50000,) (50000, 2048)\n",
      "cache to /tmp2/cybai/studiogan/cache/SAGAN-train-2021_03_09_00_57_09/best.npz\n",
      "(50000, 3, 32, 32) (50000,) (50000, 2048)\n",
      "cache to /tmp2/cybai/studiogan/cache/SAGAN-train-2021_03_11_10_38_54/best.npz\n",
      "(50000, 3, 32, 32) (50000,) (50000, 2048)\n",
      "cache to /tmp2/cybai/studiogan/cache/SAGAN-train-2021_03_18_13_59_54/best.npz\n",
      "(50000, 3, 32, 32) (50000,) (50000, 2048)\n",
      "cache to /tmp2/cybai/studiogan/cache/SAGAN-train-2021_03_06_00_46_59/best.npz\n",
      "(50000, 3, 32, 32) (50000,) (50000, 2048)\n",
      "cache to /tmp2/cybai/studiogan/cache/SAGAN-train-2021_03_09_01_00_30/best.npz\n",
      "(50000, 3, 32, 32) (50000,) (50000, 2048)\n",
      "cache to /tmp2/cybai/studiogan/cache/SAGAN-train-2021_03_12_11_16_43/best.npz\n",
      "(50000, 3, 32, 32) (50000,) (50000, 2048)\n",
      "cache to /tmp2/cybai/studiogan/cache/SAGAN-train-2021_03_28_13_20_51/best.npz\n",
      "(50000, 3, 32, 32) (50000,) (50000, 2048)\n",
      "cache to /tmp2/cybai/studiogan/cache/SAGAN-train-2021_03_06_00_48_39/best.npz\n",
      "(50000, 3, 32, 32) (50000,) (50000, 2048)\n",
      "cache to /tmp2/cybai/studiogan/cache/SAGAN-train-2021_03_09_02_08_08/best.npz\n",
      "(50000, 3, 32, 32) (50000,) (50000, 2048)\n",
      "cache to /tmp2/cybai/studiogan/cache/SAGAN-train-2021_03_13_11_47_27/best.npz\n",
      "(50000, 3, 32, 32) (50000,) (50000, 2048)\n",
      "cache to /tmp2/cybai/studiogan/cache/SAGAN-train-2021_03_28_13_21_53/best.npz\n",
      "(50000, 3, 32, 32) (50000,) (50000, 2048)\n",
      "cache to /tmp2/cybai/studiogan/cache/SAGAN-train-2021_03_06_00_50_43/best.npz\n",
      "(50000, 3, 32, 32) (50000,) (50000, 2048)\n",
      "cache to /tmp2/cybai/studiogan/cache/SAGAN-train-2021_03_27_11_48_10/best.npz\n",
      "(50000, 3, 32, 32) (50000,) (50000, 2048)\n",
      "cache to /tmp2/cybai/studiogan/cache/SAGAN-train-2021_03_14_12_23_07/best.npz\n",
      "(50000, 3, 32, 32) (50000,) (50000, 2048)\n",
      "cache to /tmp2/cybai/studiogan/cache/SAGAN-train-2021_03_28_13_30_23/best.npz\n",
      "(50000, 3, 32, 32) (50000,) (50000, 2048)\n",
      "cache to /tmp2/cybai/studiogan/cache/SAGAN-train-2021_03_06_00_54_20/best.npz\n",
      "(50000, 3, 32, 32) (50000,) (50000, 2048)\n",
      "cache to /tmp2/cybai/studiogan/cache/SAGAN-train-2021_03_27_11_51_51/best.npz\n",
      "(50000, 3, 32, 32) (50000,) (50000, 2048)\n",
      "cache to /tmp2/cybai/studiogan/cache/SAGAN-train-2021_03_15_12_50_35/best.npz\n",
      "(50000, 3, 32, 32) (50000,) (50000, 2048)\n",
      "cache to /tmp2/cybai/studiogan/cache/SAGAN-train-2021_04_03_16_07_22/best.npz\n",
      "(50000, 3, 32, 32) (50000,) (50000, 2048)\n",
      "cache to /tmp2/cybai/studiogan/cache/SAGAN-train-2021_03_06_00_57_47/best.npz\n",
      "(50000, 3, 32, 32) (50000,) (50000, 2048)\n",
      "cache to /tmp2/cybai/studiogan/cache/SAGAN-train-2021_03_27_11_53_44/best.npz\n",
      "(50000, 3, 32, 32) (50000,) (50000, 2048)\n",
      "cache to /tmp2/cybai/studiogan/cache/SAGAN-train-2021_03_16_13_20_09/best.npz\n",
      "(50000, 3, 32, 32) (50000,) (50000, 2048)\n",
      "cache to /tmp2/cybai/studiogan/cache/SAGAN-train-2021_04_03_16_10_52/best.npz\n",
      "(50000, 3, 32, 32) (50000,) (50000, 2048)\n",
      "cache to /tmp2/cybai/studiogan/cache/DiffAugGAN(P)-train-2021_03_06_20_15_56/best.npz\n"
     ]
    }
   ],
   "source": [
    "for runs in [runs['CIFAR10']['sagan'], runs['CIFAR10']['diffaug']]:\n",
    "    for runnames in runs.values():\n",
    "        for runname in runnames:\n",
    "            sampler = misc.wrapper_best(runname, dset_name='CIFAR10', device=device)\n",
    "            misc.build_cache(runname, sampler, cache_dir='/tmp2/cybai/studiogan/cache', \n",
    "                             conditional=True, proj_model=proj_model, verbose=True)"
   ]
  },
  {
   "cell_type": "code",
   "execution_count": 5,
   "id": "sacred-reunion",
   "metadata": {},
   "outputs": [
    {
     "name": "stdout",
     "output_type": "stream",
     "text": [
      "/work/cybai2020/cache/BigGAN-train-2021_05_13_11_03_03/best.npz already exists..\n",
      "/work/cybai2020/cache/BigGAN-train-2021_05_15_23_38_06/best.npz already exists..\n",
      "/work/cybai2020/cache/BigGAN-train-2021_05_15_23_52_59/best.npz already exists..\n",
      "/work/cybai2020/cache/BigGAN-train-2021_05_17_01_47_45/best.npz already exists..\n",
      "/work/cybai2020/cache/BigGAN-train-2021_05_13_14_44_28/best.npz already exists..\n",
      "/work/cybai2020/cache/BigGAN-train-2021_05_15_23_59_20/best.npz already exists..\n",
      "/work/cybai2020/cache/BigGAN-train-2021_05_16_00_20_18/best.npz already exists..\n",
      "/work/cybai2020/cache/BigGAN-train-2021_05_17_18_43_11/best.npz already exists..\n",
      "/work/cybai2020/cache/BigGAN-train-2021_05_12_10_12_32/best.npz already exists..\n",
      "/work/cybai2020/cache/BigGAN-train-2021_05_14_21_06_04/best.npz already exists..\n",
      "/work/cybai2020/cache/BigGAN-train-2021_05_16_00_01_52/best.npz already exists..\n",
      "/work/cybai2020/cache/BigGAN-train-2021_05_17_02_09_46/best.npz already exists..\n",
      "/work/cybai2020/cache/BigGAN-train-2021_05_12_10_33_07/best.npz already exists..\n",
      "/work/cybai2020/cache/BigGAN-train-2021_05_14_21_08_50/best.npz already exists..\n",
      "/work/cybai2020/cache/BigGAN-train-2021_05_16_00_04_18/best.npz already exists..\n",
      "/work/cybai2020/cache/BigGAN-train-2021_05_16_14_44_36/best.npz already exists..\n",
      "/work/cybai2020/cache/BigGAN-train-2021_05_12_00_51_16/best.npz already exists..\n",
      "/work/cybai2020/cache/BigGAN-train-2021_05_16_00_07_18/best.npz already exists..\n",
      "/work/cybai2020/cache/BigGAN-train-2021_05_16_14_46_42/best.npz already exists..\n",
      "/work/cybai2020/cache/BigGAN-train-2021_05_18_04_58_45/best.npz already exists..\n",
      "/work/cybai2020/cache/BigGAN-train-2021_05_15_23_44_57/best.npz already exists..\n",
      "cache to /work/cybai2020/cache/BigGAN-train-2021_05_16_00_16_55/best.npz\n",
      "(50000, 3, 128, 128) (50000,) (50000, 2048)\n",
      "cache to /work/cybai2020/cache/BigGAN-train-2021_05_12_16_21_11/best.npz\n",
      "(50000, 3, 128, 128) (50000,) (50000, 2048)\n",
      "cache to /work/cybai2020/cache/BigGAN-train-2021_05_18_02_45_04/best.npz\n",
      "(50000, 3, 128, 128) (50000,) (50000, 2048)\n"
     ]
    }
   ],
   "source": [
    "for runnames in runs['CELEBA-HQ_128']['biggan'].values():\n",
    "    for runname in runnames:\n",
    "        cache_path = os.path.join('/work/cybai2020/cache', runname, 'best.npz')\n",
    "        if os.path.isfile(cache_path):\n",
    "            print(f\"{cache_path} already exists..\")\n",
    "            continue\n",
    "        sampler = misc.wrapper_best(runname, dset_name='CELEBA-HQ_128', device=device)\n",
    "        misc.build_cache(runname, sampler, cache_dir='/work/cybai2020/cache', \n",
    "                         conditional=False, proj_model=proj_model, avoid_list=['X', 'Y'], verbose=True)"
   ]
  },
  {
   "cell_type": "code",
   "execution_count": null,
   "id": "individual-quarter",
   "metadata": {},
   "outputs": [],
   "source": []
  }
 ],
 "metadata": {
  "kernelspec": {
   "display_name": "Python 3",
   "language": "python",
   "name": "python3"
  },
  "language_info": {
   "codemirror_mode": {
    "name": "ipython",
    "version": 3
   },
   "file_extension": ".py",
   "mimetype": "text/x-python",
   "name": "python",
   "nbconvert_exporter": "python",
   "pygments_lexer": "ipython3",
   "version": "3.7.10"
  }
 },
 "nbformat": 4,
 "nbformat_minor": 5
}
