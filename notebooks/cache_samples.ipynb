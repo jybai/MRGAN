{
 "cells": [
  {
   "cell_type": "code",
   "execution_count": 3,
   "id": "subsequent-messaging",
   "metadata": {},
   "outputs": [
    {
     "name": "stdout",
     "output_type": "stream",
     "text": [
      "Added /nfs/home/cybai/PyTorch-StudioGAN/src to path\n",
      "Added /nfs/home/cybai/PyTorch-StudioGAN/cifar-10.1-pytorch to path\n",
      "Added /nfs/home/cybai/PyTorch-StudioGAN/data-copying to path\n",
      "Added /nfs/home/cybai/PyTorch-StudioGAN/PyTorch_CIFAR10 to path\n"
     ]
    }
   ],
   "source": [
    "import os\n",
    "import sys\n",
    "custom_paths = ['../src/', '../cifar-10.1-pytorch/', '../data-copying/', '../PyTorch_CIFAR10/']\n",
    "for path in custom_paths:\n",
    "    if os.path.abspath(path) not in sys.path:\n",
    "        sys.path.insert(0, os.path.abspath(path))\n",
    "        print(f\"Added {os.path.abspath(path)} to path\")"
   ]
  },
  {
   "cell_type": "code",
   "execution_count": 4,
   "id": "intellectual-humor",
   "metadata": {},
   "outputs": [
    {
     "data": {
      "text/plain": [
       "<module 'data_copying_tests' from '/nfs/home/cybai/PyTorch-StudioGAN/data-copying/data_copying_tests.py'>"
      ]
     },
     "execution_count": 4,
     "metadata": {},
     "output_type": "execute_result"
    }
   ],
   "source": [
    "import numpy as np\n",
    "import pandas as pd\n",
    "from tqdm import tqdm\n",
    "import functools\n",
    "from importlib import reload\n",
    "from matplotlib import pyplot as plt\n",
    "import scipy\n",
    "from scipy import stats\n",
    "from scipy.special import softmax\n",
    "import os\n",
    "import ast\n",
    "import glob\n",
    "import pickle\n",
    "\n",
    "from sklearn.decomposition import PCA\n",
    "from sklearn.cluster import KMeans \n",
    "\n",
    "import torch\n",
    "from torch.nn import Parameter as P\n",
    "import torch.nn.functional as F\n",
    "from torchvision import datasets, transforms\n",
    "from torch.utils.data import DataLoader\n",
    "\n",
    "# import custom\n",
    "\n",
    "import cifar10_models\n",
    "reload(cifar10_models)\n",
    "\n",
    "import cifar10_1\n",
    "reload(cifar10_1)\n",
    "\n",
    "from data_utils import cifair\n",
    "reload(cifair)\n",
    "\n",
    "from metrics.feat_extract_models import alexnet, inception, vgg\n",
    "reload(alexnet)\n",
    "reload(inception)\n",
    "reload(vgg)\n",
    "\n",
    "from utils import load_checkpoint\n",
    "reload(load_checkpoint)\n",
    "\n",
    "from metrics.FID import calculate_frechet_distance\n",
    "\n",
    "import misc\n",
    "reload(misc)\n",
    "\n",
    "import data_copying_tests\n",
    "reload(data_copying_tests)"
   ]
  },
  {
   "cell_type": "code",
   "execution_count": 5,
   "id": "dietary-niger",
   "metadata": {},
   "outputs": [],
   "source": [
    "os.environ[\"CUDA_VISIBLE_DEVICES\"] = \"1\"\n",
    "device = 'cuda'\n",
    "torch.backends.cudnn.benchmark = True"
   ]
  },
  {
   "cell_type": "code",
   "execution_count": 6,
   "id": "sweet-certificate",
   "metadata": {},
   "outputs": [
    {
     "name": "stdout",
     "output_type": "stream",
     "text": [
      "##### trainable parameters\n",
      "\n",
      "#####\n"
     ]
    }
   ],
   "source": [
    "proj_model = inception.WrappedInception3().eval().to(device)"
   ]
  },
  {
   "cell_type": "code",
   "execution_count": 1,
   "id": "simple-format",
   "metadata": {},
   "outputs": [],
   "source": [
    "sagan_runs = {\n",
    "    0.00: ['SAGAN-train-2021_03_04_15_20_57', 'SAGAN-train-2021_03_09_00_54_36', 'SAGAN-train-2021_03_10_10_00_29', 'SAGAN-train-2021_03_17_13_42_52'],\n",
    "    0.10: ['SAGAN-train-2021_03_06_00_44_13', 'SAGAN-train-2021_03_09_00_57_09', 'SAGAN-train-2021_03_11_10_38_54', 'SAGAN-train-2021_03_18_13_59_54'],\n",
    "    0.12: ['SAGAN-train-2021_03_06_00_46_59', 'SAGAN-train-2021_03_09_01_00_30', 'SAGAN-train-2021_03_12_11_16_43', 'SAGAN-train-2021_03_28_13_20_51'],\n",
    "    0.13: ['SAGAN-train-2021_03_06_00_48_39', 'SAGAN-train-2021_03_09_02_08_08', 'SAGAN-train-2021_03_13_11_47_27', 'SAGAN-train-2021_03_28_13_21_53'],\n",
    "    0.14: ['SAGAN-train-2021_03_06_00_50_43', 'SAGAN-train-2021_03_27_11_48_10', 'SAGAN-train-2021_03_14_12_23_07', 'SAGAN-train-2021_03_28_13_30_23'],\n",
    "    0.15: ['SAGAN-train-2021_03_06_00_54_20', 'SAGAN-train-2021_03_27_11_51_51', 'SAGAN-train-2021_03_15_12_50_35', 'SAGAN-train-2021_04_03_16_07_22'],\n",
    "    0.16: ['SAGAN-train-2021_03_06_00_57_47', 'SAGAN-train-2021_03_27_11_53_44', 'SAGAN-train-2021_03_16_13_20_09', 'SAGAN-train-2021_04_03_16_10_52']\n",
    "}"
   ]
  },
  {
   "cell_type": "code",
   "execution_count": 2,
   "id": "intermediate-imperial",
   "metadata": {},
   "outputs": [],
   "source": [
    "diffaug_runs = {\n",
    "    0.00: ['DiffAugGAN(P)-train-2021_03_06_20_15_56', 'DiffAugGAN(P)-train-2021_03_10_09_58_03', 'DiffAugGAN(P)-train-2021_03_25_22_02_38', 'DiffAugGAN(P)-train-2021_04_13_21_24_13'],\n",
    "    0.10: ['DiffAugGAN(P)-train-2021_03_06_20_19_47', 'DiffAugGAN(P)-train-2021_03_12_14_55_48', 'DiffAugGAN(P)-train-2021_03_28_03_17_16', 'DiffAugGAN(P)-train-2021_04_13_21_24_52'],\n",
    "    0.12: ['DiffAugGAN(P)-train-2021_03_06_20_22_27', 'DiffAugGAN(P)-train-2021_03_14_19_57_50', 'DiffAugGAN(P)-train-2021_03_30_08_38_45', 'DiffAugGAN(P)-train-2021_04_17_10_54_23'],\n",
    "    0.13: ['DiffAugGAN(P)-train-2021_03_06_20_25_10', 'DiffAugGAN(P)-train-2021_03_17_01_39_09', 'DiffAugGAN(P)-train-2021_04_01_13_59_14', 'DiffAugGAN(P)-train-2021_04_17_10_59_40'],\n",
    "    0.14: ['DiffAugGAN(P)-train-2021_03_06_20_26_45', 'DiffAugGAN(P)-train-2021_03_19_06_43_02', 'DiffAugGAN(P)-train-2021_04_03_19_03_34', 'DiffAugGAN(P)-train-2021_04_19_22_56_11'],\n",
    "    0.15: ['DiffAugGAN(P)-train-2021_03_08_14_46_12', 'DiffAugGAN(P)-train-2021_03_21_11_38_59', 'DiffAugGAN(P)-train-2021_04_06_00_25_51', 'DiffAugGAN(P)-train-2021_04_06_13_47_56'],\n",
    "    0.16: ['DiffAugGAN(P)-train-2021_03_27_11_52_47', 'DiffAugGAN(P)-train-2021_03_23_16_50_02', 'DiffAugGAN(P)-train-2021_04_08_05_55_17', 'DiffAugGAN(P)-train-2021_04_03_16_19_34'],\n",
    "}"
   ]
  },
  {
   "cell_type": "code",
   "execution_count": 12,
   "id": "mature-today",
   "metadata": {},
   "outputs": [
    {
     "name": "stdout",
     "output_type": "stream",
     "text": [
      "cache to /tmp2/cybai/studiogan/cache/SAGAN-train-2021_03_04_15_20_57/best.npz\n",
      "(50000, 3, 32, 32) (50000,) (50000, 2048)\n",
      "cache to /tmp2/cybai/studiogan/cache/SAGAN-train-2021_03_09_00_54_36/best.npz\n",
      "(50000, 3, 32, 32) (50000,) (50000, 2048)\n",
      "cache to /tmp2/cybai/studiogan/cache/SAGAN-train-2021_03_10_10_00_29/best.npz\n",
      "(50000, 3, 32, 32) (50000,) (50000, 2048)\n",
      "cache to /tmp2/cybai/studiogan/cache/SAGAN-train-2021_03_17_13_42_52/best.npz\n",
      "(50000, 3, 32, 32) (50000,) (50000, 2048)\n",
      "cache to /tmp2/cybai/studiogan/cache/SAGAN-train-2021_03_09_00_57_09/best.npz\n",
      "(50000, 3, 32, 32) (50000,) (50000, 2048)\n",
      "cache to /tmp2/cybai/studiogan/cache/SAGAN-train-2021_03_11_10_38_54/best.npz\n",
      "(50000, 3, 32, 32) (50000,) (50000, 2048)\n",
      "cache to /tmp2/cybai/studiogan/cache/SAGAN-train-2021_03_18_13_59_54/best.npz\n",
      "(50000, 3, 32, 32) (50000,) (50000, 2048)\n",
      "cache to /tmp2/cybai/studiogan/cache/SAGAN-train-2021_03_06_00_46_59/best.npz\n",
      "(50000, 3, 32, 32) (50000,) (50000, 2048)\n",
      "cache to /tmp2/cybai/studiogan/cache/SAGAN-train-2021_03_09_01_00_30/best.npz\n",
      "(50000, 3, 32, 32) (50000,) (50000, 2048)\n",
      "cache to /tmp2/cybai/studiogan/cache/SAGAN-train-2021_03_12_11_16_43/best.npz\n",
      "(50000, 3, 32, 32) (50000,) (50000, 2048)\n",
      "cache to /tmp2/cybai/studiogan/cache/SAGAN-train-2021_03_28_13_20_51/best.npz\n",
      "(50000, 3, 32, 32) (50000,) (50000, 2048)\n",
      "cache to /tmp2/cybai/studiogan/cache/SAGAN-train-2021_03_06_00_48_39/best.npz\n",
      "(50000, 3, 32, 32) (50000,) (50000, 2048)\n",
      "cache to /tmp2/cybai/studiogan/cache/SAGAN-train-2021_03_09_02_08_08/best.npz\n",
      "(50000, 3, 32, 32) (50000,) (50000, 2048)\n",
      "cache to /tmp2/cybai/studiogan/cache/SAGAN-train-2021_03_13_11_47_27/best.npz\n",
      "(50000, 3, 32, 32) (50000,) (50000, 2048)\n",
      "cache to /tmp2/cybai/studiogan/cache/SAGAN-train-2021_03_28_13_21_53/best.npz\n",
      "(50000, 3, 32, 32) (50000,) (50000, 2048)\n",
      "cache to /tmp2/cybai/studiogan/cache/SAGAN-train-2021_03_06_00_50_43/best.npz\n",
      "(50000, 3, 32, 32) (50000,) (50000, 2048)\n",
      "cache to /tmp2/cybai/studiogan/cache/SAGAN-train-2021_03_27_11_48_10/best.npz\n",
      "(50000, 3, 32, 32) (50000,) (50000, 2048)\n",
      "cache to /tmp2/cybai/studiogan/cache/SAGAN-train-2021_03_14_12_23_07/best.npz\n",
      "(50000, 3, 32, 32) (50000,) (50000, 2048)\n",
      "cache to /tmp2/cybai/studiogan/cache/SAGAN-train-2021_03_28_13_30_23/best.npz\n",
      "(50000, 3, 32, 32) (50000,) (50000, 2048)\n",
      "cache to /tmp2/cybai/studiogan/cache/SAGAN-train-2021_03_06_00_54_20/best.npz\n",
      "(50000, 3, 32, 32) (50000,) (50000, 2048)\n",
      "cache to /tmp2/cybai/studiogan/cache/SAGAN-train-2021_03_27_11_51_51/best.npz\n",
      "(50000, 3, 32, 32) (50000,) (50000, 2048)\n",
      "cache to /tmp2/cybai/studiogan/cache/SAGAN-train-2021_03_15_12_50_35/best.npz\n",
      "(50000, 3, 32, 32) (50000,) (50000, 2048)\n",
      "cache to /tmp2/cybai/studiogan/cache/SAGAN-train-2021_04_03_16_07_22/best.npz\n",
      "(50000, 3, 32, 32) (50000,) (50000, 2048)\n",
      "cache to /tmp2/cybai/studiogan/cache/SAGAN-train-2021_03_06_00_57_47/best.npz\n",
      "(50000, 3, 32, 32) (50000,) (50000, 2048)\n",
      "cache to /tmp2/cybai/studiogan/cache/SAGAN-train-2021_03_27_11_53_44/best.npz\n",
      "(50000, 3, 32, 32) (50000,) (50000, 2048)\n",
      "cache to /tmp2/cybai/studiogan/cache/SAGAN-train-2021_03_16_13_20_09/best.npz\n",
      "(50000, 3, 32, 32) (50000,) (50000, 2048)\n",
      "cache to /tmp2/cybai/studiogan/cache/SAGAN-train-2021_04_03_16_10_52/best.npz\n",
      "(50000, 3, 32, 32) (50000,) (50000, 2048)\n",
      "cache to /tmp2/cybai/studiogan/cache/DiffAugGAN(P)-train-2021_03_06_20_15_56/best.npz\n",
      "(50000, 3, 32, 32) (50000,) (50000, 2048)\n",
      "cache to /tmp2/cybai/studiogan/cache/DiffAugGAN(P)-train-2021_03_10_09_58_03/best.npz\n",
      "(50000, 3, 32, 32) (50000,) (50000, 2048)\n",
      "cache to /tmp2/cybai/studiogan/cache/DiffAugGAN(P)-train-2021_03_25_22_02_38/best.npz\n",
      "(50000, 3, 32, 32) (50000,) (50000, 2048)\n",
      "cache to /tmp2/cybai/studiogan/cache/DiffAugGAN(P)-train-2021_04_13_21_24_13/best.npz\n",
      "(50000, 3, 32, 32) (50000,) (50000, 2048)\n",
      "cache to /tmp2/cybai/studiogan/cache/DiffAugGAN(P)-train-2021_03_06_20_19_47/best.npz\n",
      "(50000, 3, 32, 32) (50000,) (50000, 2048)\n",
      "cache to /tmp2/cybai/studiogan/cache/DiffAugGAN(P)-train-2021_03_12_14_55_48/best.npz\n",
      "(50000, 3, 32, 32) (50000,) (50000, 2048)\n",
      "cache to /tmp2/cybai/studiogan/cache/DiffAugGAN(P)-train-2021_03_28_03_17_16/best.npz\n",
      "(50000, 3, 32, 32) (50000,) (50000, 2048)\n",
      "cache to /tmp2/cybai/studiogan/cache/DiffAugGAN(P)-train-2021_04_13_21_24_52/best.npz\n",
      "(50000, 3, 32, 32) (50000,) (50000, 2048)\n",
      "cache to /tmp2/cybai/studiogan/cache/DiffAugGAN(P)-train-2021_03_06_20_22_27/best.npz\n",
      "(50000, 3, 32, 32) (50000,) (50000, 2048)\n",
      "cache to /tmp2/cybai/studiogan/cache/DiffAugGAN(P)-train-2021_03_14_19_57_50/best.npz\n",
      "(50000, 3, 32, 32) (50000,) (50000, 2048)\n",
      "cache to /tmp2/cybai/studiogan/cache/DiffAugGAN(P)-train-2021_03_30_08_38_45/best.npz\n",
      "(50000, 3, 32, 32) (50000,) (50000, 2048)\n",
      "cache to /tmp2/cybai/studiogan/cache/DiffAugGAN(P)-train-2021_04_17_10_54_23/best.npz\n",
      "(50000, 3, 32, 32) (50000,) (50000, 2048)\n",
      "cache to /tmp2/cybai/studiogan/cache/DiffAugGAN(P)-train-2021_03_06_20_25_10/best.npz\n",
      "(50000, 3, 32, 32) (50000,) (50000, 2048)\n",
      "cache to /tmp2/cybai/studiogan/cache/DiffAugGAN(P)-train-2021_03_17_01_39_09/best.npz\n",
      "(50000, 3, 32, 32) (50000,) (50000, 2048)\n",
      "cache to /tmp2/cybai/studiogan/cache/DiffAugGAN(P)-train-2021_04_01_13_59_14/best.npz\n",
      "(50000, 3, 32, 32) (50000,) (50000, 2048)\n",
      "cache to /tmp2/cybai/studiogan/cache/DiffAugGAN(P)-train-2021_04_17_10_59_40/best.npz\n",
      "(50000, 3, 32, 32) (50000,) (50000, 2048)\n",
      "cache to /tmp2/cybai/studiogan/cache/DiffAugGAN(P)-train-2021_03_19_06_43_02/best.npz\n",
      "(50000, 3, 32, 32) (50000,) (50000, 2048)\n",
      "cache to /tmp2/cybai/studiogan/cache/DiffAugGAN(P)-train-2021_04_03_19_03_34/best.npz\n",
      "(50000, 3, 32, 32) (50000,) (50000, 2048)\n",
      "cache to /tmp2/cybai/studiogan/cache/DiffAugGAN(P)-train-2021_04_19_22_56_11/best.npz\n",
      "(50000, 3, 32, 32) (50000,) (50000, 2048)\n",
      "cache to /tmp2/cybai/studiogan/cache/DiffAugGAN(P)-train-2021_03_08_14_46_12/best.npz\n",
      "(50000, 3, 32, 32) (50000,) (50000, 2048)\n",
      "cache to /tmp2/cybai/studiogan/cache/DiffAugGAN(P)-train-2021_03_21_11_38_59/best.npz\n",
      "(50000, 3, 32, 32) (50000,) (50000, 2048)\n",
      "cache to /tmp2/cybai/studiogan/cache/DiffAugGAN(P)-train-2021_04_06_00_25_51/best.npz\n",
      "(50000, 3, 32, 32) (50000,) (50000, 2048)\n",
      "cache to /tmp2/cybai/studiogan/cache/DiffAugGAN(P)-train-2021_04_06_13_47_56/best.npz\n",
      "(50000, 3, 32, 32) (50000,) (50000, 2048)\n",
      "cache to /tmp2/cybai/studiogan/cache/DiffAugGAN(P)-train-2021_03_27_11_52_47/best.npz\n",
      "(50000, 3, 32, 32) (50000,) (50000, 2048)\n",
      "cache to /tmp2/cybai/studiogan/cache/DiffAugGAN(P)-train-2021_03_23_16_50_02/best.npz\n",
      "(50000, 3, 32, 32) (50000,) (50000, 2048)\n",
      "cache to /tmp2/cybai/studiogan/cache/DiffAugGAN(P)-train-2021_04_08_05_55_17/best.npz\n",
      "(50000, 3, 32, 32) (50000,) (50000, 2048)\n",
      "cache to /tmp2/cybai/studiogan/cache/DiffAugGAN(P)-train-2021_04_03_16_19_34/best.npz\n",
      "(50000, 3, 32, 32) (50000,) (50000, 2048)\n"
     ]
    }
   ],
   "source": [
    "for runs in [sagan_runs, diffaug_runs]:\n",
    "    for runnames in runs.values():\n",
    "        for runname in runnames:\n",
    "            sampler = misc.wrapper_best(runname, dset_name='CIFAR10', device=device)\n",
    "            misc.build_cache(runname, sampler, cache_dir='/tmp2/cybai/studiogan/cache', \n",
    "                             conditional=True, proj_model=proj_model, verbose=True)"
   ]
  },
  {
   "cell_type": "code",
   "execution_count": null,
   "id": "other-document",
   "metadata": {},
   "outputs": [],
   "source": []
  }
 ],
 "metadata": {
  "kernelspec": {
   "display_name": "Python 3",
   "language": "python",
   "name": "python3"
  },
  "language_info": {
   "codemirror_mode": {
    "name": "ipython",
    "version": 3
   },
   "file_extension": ".py",
   "mimetype": "text/x-python",
   "name": "python",
   "nbconvert_exporter": "python",
   "pygments_lexer": "ipython3",
   "version": "3.7.10"
  }
 },
 "nbformat": 4,
 "nbformat_minor": 5
}
