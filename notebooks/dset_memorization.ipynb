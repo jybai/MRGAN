{
 "cells": [
  {
   "cell_type": "code",
   "execution_count": 1,
   "id": "third-vehicle",
   "metadata": {},
   "outputs": [
    {
     "name": "stdout",
     "output_type": "stream",
     "text": [
      "Added /nfs/home/cybai/PyTorch-StudioGAN/src to path\n",
      "Added /nfs/home/cybai/PyTorch-StudioGAN/cifar-10.1-pytorch to path\n",
      "Added /nfs/home/cybai/PyTorch-StudioGAN/data-copying to path\n",
      "Added /nfs/home/cybai/PyTorch-StudioGAN/PyTorch_CIFAR10 to path\n"
     ]
    }
   ],
   "source": [
    "import os\n",
    "import sys\n",
    "custom_paths = ['../src/', '../cifar-10.1-pytorch/', '../data-copying/', '../PyTorch_CIFAR10/']\n",
    "for path in custom_paths:\n",
    "    if os.path.abspath(path) not in sys.path:\n",
    "        sys.path.insert(0, os.path.abspath(path))\n",
    "        print(f\"Added {os.path.abspath(path)} to path\")"
   ]
  },
  {
   "cell_type": "code",
   "execution_count": 2,
   "id": "noticed-particle",
   "metadata": {},
   "outputs": [
    {
     "data": {
      "text/plain": [
       "<module 'data_copying_tests' from '/nfs/home/cybai/PyTorch-StudioGAN/data-copying/data_copying_tests.py'>"
      ]
     },
     "execution_count": 2,
     "metadata": {},
     "output_type": "execute_result"
    }
   ],
   "source": [
    "import numpy as np\n",
    "import pandas as pd\n",
    "from tqdm import tqdm\n",
    "import functools\n",
    "from importlib import reload\n",
    "from matplotlib import pyplot as plt\n",
    "import scipy\n",
    "from scipy import stats\n",
    "from scipy.special import softmax\n",
    "import os\n",
    "import ast\n",
    "import glob\n",
    "import pickle\n",
    "\n",
    "from sklearn.decomposition import PCA\n",
    "from sklearn.cluster import KMeans \n",
    "\n",
    "import torch\n",
    "from torch.nn import Parameter as P\n",
    "import torch.nn.functional as F\n",
    "from torchvision import datasets, transforms\n",
    "from torch.utils.data import DataLoader\n",
    "\n",
    "# import custom\n",
    "\n",
    "import cifar10_models\n",
    "reload(cifar10_models)\n",
    "\n",
    "import cifar10_1\n",
    "reload(cifar10_1)\n",
    "\n",
    "from data_utils import cifair\n",
    "reload(cifair)\n",
    "\n",
    "from metrics.feat_extract_models import alexnet, inception, vgg\n",
    "reload(alexnet)\n",
    "reload(inception)\n",
    "reload(vgg)\n",
    "\n",
    "from utils import load_checkpoint\n",
    "reload(load_checkpoint)\n",
    "\n",
    "from metrics.FID import calculate_frechet_distance\n",
    "\n",
    "import misc\n",
    "reload(misc)\n",
    "\n",
    "import data_copying_tests\n",
    "reload(data_copying_tests)"
   ]
  },
  {
   "cell_type": "code",
   "execution_count": 3,
   "id": "integrated-happiness",
   "metadata": {},
   "outputs": [],
   "source": [
    "os.environ[\"CUDA_VISIBLE_DEVICES\"] = \"0\"\n",
    "device = 'cuda'\n",
    "torch.backends.cudnn.benchmark = True"
   ]
  },
  {
   "cell_type": "code",
   "execution_count": 4,
   "id": "angry-policy",
   "metadata": {},
   "outputs": [],
   "source": [
    "cifar10_classnames = ['plane', 'car', 'bird', 'cat', 'deer', 'dog', 'frog', 'horse', 'ship', 'trucks']"
   ]
  },
  {
   "cell_type": "code",
   "execution_count": 5,
   "id": "isolated-tonight",
   "metadata": {},
   "outputs": [
    {
     "name": "stdout",
     "output_type": "stream",
     "text": [
      "Files already downloaded and verified\n",
      "Files already downloaded and verified\n",
      "Files already downloaded and verified\n",
      "Files already downloaded and verified\n"
     ]
    }
   ],
   "source": [
    "cifar10_1_dset = cifar10_1.CIFAR10_1_v6('../data/cifar10_1',\n",
    "                                         transform=transforms.Compose([transforms.ToTensor(),\n",
    "                                                                       transforms.Normalize(0.5, 0.5)]), \n",
    "                                         download=True) # range = [-1, 1]\n",
    "cifar10_train_dset = datasets.CIFAR10('../data/cifar10', train=True, \n",
    "                                      transform=transforms.Compose([transforms.ToTensor(),\n",
    "                                                                    transforms.Normalize(0.5, 0.5)]), \n",
    "                                      download=True) # range = [-1, 1]\n",
    "cifar10_test_dset = datasets.CIFAR10('../data/cifar10', train=False, \n",
    "                                      transform=transforms.Compose([transforms.ToTensor(),\n",
    "                                                                    transforms.Normalize(0.5, 0.5)]), \n",
    "                                      download=True) # range = [-1, 1]\n",
    "cifair10_dset = cifair.ciFAIR10('../data/cifair10', train=False,\n",
    "                                transform=transforms.Compose([transforms.ToTensor(),\n",
    "                                                              transforms.Normalize(0.5, 0.5)]), \n",
    "                                download=True) # range = [-1, 1]"
   ]
  },
  {
   "cell_type": "code",
   "execution_count": 6,
   "id": "neutral-price",
   "metadata": {},
   "outputs": [],
   "source": [
    "ref_dsets = {'cifar10_1': cifar10_1_dset, 'cifar10_train': cifar10_train_dset,\n",
    "                'cifar10_test': cifar10_test_dset, 'cifair10': cifair10_dset}\n",
    "ref_dls = {k: DataLoader(v, batch_size=50, shuffle=False, num_workers=8, drop_last=False)\n",
    "           for k, v in ref_dsets.items()}"
   ]
  },
  {
   "cell_type": "code",
   "execution_count": 7,
   "id": "iraqi-elevation",
   "metadata": {},
   "outputs": [
    {
     "name": "stdout",
     "output_type": "stream",
     "text": [
      "##### trainable parameters\n",
      "\n",
      "#####\n"
     ]
    }
   ],
   "source": [
    "proj_model = inception.WrappedInception3().eval().to(device)"
   ]
  },
  {
   "cell_type": "code",
   "execution_count": 8,
   "id": "married-update",
   "metadata": {},
   "outputs": [
    {
     "name": "stdout",
     "output_type": "stream",
     "text": [
      "cifar10_1 (2000, 2048) (2000,)\n",
      "cifar10_train (50000, 2048) (50000,)\n",
      "cifar10_test (10000, 2048) (10000,)\n",
      "cifair10 (10000, 2048) (10000,)\n"
     ]
    }
   ],
   "source": [
    "feats = {}\n",
    "labels = {}\n",
    "for dset_name, dl in ref_dls.items():\n",
    "    (xs_, ys_), feats_, logits_ = misc.project(dl, proj_model, n_samples=None, to_numpy=True)\n",
    "    # top_1_conf = np.amax(softmax(logits_, axis=-1), axis=-1)\n",
    "    feats[dset_name] = feats_\n",
    "    labels[dset_name] = ys_\n",
    "    print(dset_name, feats_.shape, ys_.shape)"
   ]
  },
  {
   "cell_type": "code",
   "execution_count": 15,
   "id": "nuclear-pleasure",
   "metadata": {},
   "outputs": [
    {
     "name": "stdout",
     "output_type": "stream",
     "text": [
      "(40000,) (10000,)\n"
     ]
    }
   ],
   "source": [
    "new_train_indices, new_test_indices = [], []\n",
    "n_test = 10000\n",
    "\n",
    "for n_class in range(10):\n",
    "    class_indices = np.arange(labels['cifar10_train'].shape[0])[labels['cifar10_train'] == n_class]\n",
    "    np.random.shuffle(class_indices)\n",
    "    new_train_indices.append(class_indices[:-n_test // 10])\n",
    "    new_test_indices.append(class_indices[-n_test // 10:])\n",
    "new_train_indices = np.concatenate(new_train_indices)\n",
    "new_test_indices = np.concatenate(new_test_indices)\n",
    "print(new_train_indices.shape, new_test_indices.shape)"
   ]
  },
  {
   "cell_type": "code",
   "execution_count": 16,
   "id": "empirical-patient",
   "metadata": {},
   "outputs": [],
   "source": [
    "feats['cifar10_train_new'] = feats['cifar10_train'][new_train_indices]\n",
    "feats['cifar10_test_new'] = feats['cifar10_train'][new_test_indices]\n",
    "labels['cifar10_train_new'] = labels['cifar10_train'][new_train_indices]\n",
    "labels['cifar10_test_new'] = labels['cifar10_train'][new_test_indices]"
   ]
  },
  {
   "cell_type": "code",
   "execution_count": 24,
   "id": "imported-cocktail",
   "metadata": {},
   "outputs": [],
   "source": [
    "del feats['cifar10_train'], labels['cifar10_train']"
   ]
  },
  {
   "cell_type": "code",
   "execution_count": 29,
   "id": "genuine-retail",
   "metadata": {},
   "outputs": [],
   "source": [
    "train_dset_name = 'cifar10_train_new'"
   ]
  },
  {
   "cell_type": "code",
   "execution_count": 25,
   "id": "advance-intervention",
   "metadata": {},
   "outputs": [],
   "source": [
    "dset_inception_means, dset_inception_covs = {}, {}\n",
    "for dset_name, feat in feats.items():\n",
    "    dset_inception_means[dset_name] = np.mean(feat, axis=0)\n",
    "    dset_inception_covs[dset_name] = np.cov(feat, rowvar=False)"
   ]
  },
  {
   "cell_type": "code",
   "execution_count": 26,
   "id": "rough-grounds",
   "metadata": {},
   "outputs": [],
   "source": [
    "fids = {}\n",
    "for dset_name in feats.keys():\n",
    "    if dset_name == train_dset_name:\n",
    "        continue\n",
    "    fids[dset_name] = calculate_frechet_distance(dset_inception_means[dset_name], \n",
    "                                                 dset_inception_covs[dset_name],\n",
    "                                                 dset_inception_means[train_dset_name], \n",
    "                                                 dset_inception_covs[train_dset_name])"
   ]
  },
  {
   "cell_type": "code",
   "execution_count": 28,
   "id": "present-effects",
   "metadata": {},
   "outputs": [
    {
     "data": {
      "text/plain": [
       "([<matplotlib.axis.XTick at 0x7f4bf042e990>,\n",
       "  <matplotlib.axis.XTick at 0x7f4bf0430610>,\n",
       "  <matplotlib.axis.XTick at 0x7f4bf0430210>,\n",
       "  <matplotlib.axis.XTick at 0x7f4bf016e090>],\n",
       " [Text(0, 0, 'cifar10_1'),\n",
       "  Text(1, 0, 'cifar10_test'),\n",
       "  Text(2, 0, 'cifair10'),\n",
       "  Text(3, 0, 'cifar10_test_new')])"
      ]
     },
     "execution_count": 28,
     "metadata": {},
     "output_type": "execute_result"
    },
    {
     "data": {
      "image/png": "[encoded data removed]",
      "text/plain": [
       "<Figure size 432x288 with 1 Axes>"
      ]
     },
     "metadata": {
      "needs_background": "light"
     },
     "output_type": "display_data"
    }
   ],
   "source": [
    "plt.bar(np.arange(len(fids)), fids.values())\n",
    "plt.xticks(np.arange(len(fids)), labels=fids.keys())"
   ]
  },
  {
   "cell_type": "code",
   "execution_count": 30,
   "id": "flying-colleague",
   "metadata": {},
   "outputs": [],
   "source": [
    "test_dset_name = 'cifar10_test_new'"
   ]
  },
  {
   "cell_type": "code",
   "execution_count": 39,
   "id": "honest-speech",
   "metadata": {},
   "outputs": [
    {
     "name": "stdout",
     "output_type": "stream",
     "text": [
      "n_class = 0\n",
      "n_class = 1\n",
      "n_class = 2\n",
      "n_class = 3\n",
      "n_class = 4\n",
      "n_class = 5\n",
      "n_class = 6\n",
      "n_class = 7\n",
      "n_class = 8\n",
      "n_class = 9\n"
     ]
    }
   ],
   "source": [
    "class_C_Ts = {}\n",
    "for n_class in range(10):\n",
    "    print(f\"n_class = {n_class}\")\n",
    "    train_pool = feats[train_dset_name][labels[train_dset_name] == n_class]\n",
    "\n",
    "    pca_xf = PCA(n_components=64).fit(train_pool)\n",
    "    train_pca = pca_xf.transform(train_pool)\n",
    "\n",
    "    n_clusters = min(feats[test_dset_name].shape[0], train_pool.shape[0]) // 250\n",
    "    km_clf = KMeans(n_clusters=n_clusters).fit(train_pca)\n",
    "    T_labels = km_clf.predict(train_pca)\n",
    "\n",
    "    test_pool = feats[test_dset_name][labels[test_dset_name] == n_class]\n",
    "\n",
    "    test_pca = pca_xf.transform(test_pool)\n",
    "    Pn_labels = km_clf.predict(test_pca)\n",
    "    \n",
    "    C_Ts = {}\n",
    "    for dset_name in feats.keys():\n",
    "\n",
    "        if dset_name == train_dset_name or dset_name == test_dset_name:\n",
    "            continue\n",
    "\n",
    "        gen_pool = feats[dset_name][labels[dset_name] == n_class]\n",
    "        gen_pca = pca_xf.transform(gen_pool)\n",
    "        Qm_labels = km_clf.predict(gen_pca)\n",
    "        \n",
    "        C_T = data_copying_tests.C_T(test_pool, Pn_labels, gen_pool, Qm_labels, \n",
    "                                     train_pool, T_labels, tau=20 / len(gen_pool))\n",
    "\n",
    "        C_Ts[dset_name] = C_T\n",
    "\n",
    "    class_C_Ts[n_class] = C_Ts"
   ]
  },
  {
   "cell_type": "code",
   "execution_count": 44,
   "id": "normal-reservation",
   "metadata": {},
   "outputs": [
    {
     "data": {
      "image/png": "[encoded data removed]",
      "text/plain": [
       "<Figure size 1800x720 with 10 Axes>"
      ]
     },
     "metadata": {
      "needs_background": "light"
     },
     "output_type": "display_data"
    }
   ],
   "source": [
    "fig, axs = plt.subplots(2, 5, figsize=(25, 10))\n",
    "\n",
    "for (n_class, C_Ts), ax in zip(class_C_Ts.items(), axs.flat):\n",
    "\n",
    "    ax.bar(np.arange(len(C_Ts)), C_Ts.values())\n",
    "    ax.set_xticks(np.arange(len(C_Ts)))\n",
    "    ax.set_xticklabels(C_Ts.keys())\n",
    "    ax.set_ylim(-2.5, 2.5)\n",
    "    ax.grid()\n",
    "    ax.set_title(f\"C_T (class = {cifar10_classnames[n_class]})\")"
   ]
  },
  {
   "cell_type": "code",
   "execution_count": 45,
   "id": "different-beatles",
   "metadata": {},
   "outputs": [],
   "source": [
    "nnds, nnd_indices = misc.calculate_knnd_numpy(target_feats=feats[test_dset_name], \n",
    "                                              ref_feats=feats[train_dset_name])"
   ]
  },
  {
   "cell_type": "code",
   "execution_count": 46,
   "id": "comfortable-demographic",
   "metadata": {},
   "outputs": [],
   "source": [
    "nnd_ordered_indices = np.argsort(nnds)"
   ]
  },
  {
   "cell_type": "code",
   "execution_count": 48,
   "id": "quantitative-folks",
   "metadata": {},
   "outputs": [],
   "source": [
    "hist, bin_edges = np.histogram(nnds, bins=50)"
   ]
  },
  {
   "cell_type": "code",
   "execution_count": 50,
   "id": "digital-reverse",
   "metadata": {},
   "outputs": [
    {
     "data": {
      "text/plain": [
       "[<matplotlib.lines.Line2D at 0x7f4b9c23bad0>]"
      ]
     },
     "execution_count": 50,
     "metadata": {},
     "output_type": "execute_result"
    },
    {
     "data": {
      "image/png": "[encoded data removed]",
      "text/plain": [
       "<Figure size 432x288 with 1 Axes>"
      ]
     },
     "metadata": {
      "needs_background": "light"
     },
     "output_type": "display_data"
    }
   ],
   "source": [
    "plt.plot(bin_edges[:-1], hist)"
   ]
  },
  {
   "cell_type": "code",
   "execution_count": null,
   "id": "located-exhibit",
   "metadata": {},
   "outputs": [],
   "source": []
  }
 ],
 "metadata": {
  "kernelspec": {
   "display_name": "Python 3",
   "language": "python",
   "name": "python3"
  },
  "language_info": {
   "codemirror_mode": {
    "name": "ipython",
    "version": 3
   },
   "file_extension": ".py",
   "mimetype": "text/x-python",
   "name": "python",
   "nbconvert_exporter": "python",
   "pygments_lexer": "ipython3",
   "version": "3.7.10"
  }
 },
 "nbformat": 4,
 "nbformat_minor": 5
}
