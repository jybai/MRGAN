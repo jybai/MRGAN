{
 "cells": [
  {
   "cell_type": "code",
   "execution_count": 2,
   "id": "heated-seating",
   "metadata": {},
   "outputs": [
    {
     "name": "stdout",
     "output_type": "stream",
     "text": [
      "Added /nfs/home/cybai/PyTorch-StudioGAN/src to path\n",
      "Added /nfs/home/cybai/PyTorch-StudioGAN/cifar-10.1-pytorch to path\n",
      "Added /nfs/home/cybai/PyTorch-StudioGAN/data-copying to path\n",
      "Added /nfs/home/cybai/PyTorch-StudioGAN/PyTorch_CIFAR10 to path\n"
     ]
    }
   ],
   "source": [
    "import os\n",
    "import sys\n",
    "custom_paths = ['../src/', '../cifar-10.1-pytorch/', '../data-copying/', '../PyTorch_CIFAR10/']\n",
    "for path in custom_paths:\n",
    "    if os.path.abspath(path) not in sys.path:\n",
    "        sys.path.insert(0, os.path.abspath(path))\n",
    "        print(f\"Added {os.path.abspath(path)} to path\")"
   ]
  },
  {
   "cell_type": "code",
   "execution_count": 5,
   "id": "engaged-theme",
   "metadata": {},
   "outputs": [],
   "source": [
    "import numpy as np\n",
    "import pandas as pd\n",
    "from tqdm import tqdm\n",
    "import functools\n",
    "from importlib import reload\n",
    "from matplotlib import pyplot as plt\n",
    "import scipy\n",
    "from scipy import stats\n",
    "from scipy.special import softmax\n",
    "import os\n",
    "import ast\n",
    "import glob\n",
    "import pickle\n",
    "\n",
    "from sklearn.decomposition import PCA\n",
    "from sklearn.cluster import KMeans \n",
    "\n",
    "import torch\n",
    "from torch.nn import Parameter as P\n",
    "import torch.nn.functional as F\n",
    "from torchvision import datasets, transforms\n",
    "from torch.utils.data import DataLoader\n",
    "\n",
    "# import custom\n",
    "\n",
    "import cifar10_models\n",
    "reload(cifar10_models)\n",
    "\n",
    "import cifar10_1\n",
    "reload(cifar10_1)\n",
    "\n",
    "from data_utils import cifair\n",
    "reload(cifair)\n",
    "\n",
    "from metrics.feat_extract_models import alexnet, inception, vgg\n",
    "reload(alexnet)\n",
    "reload(inception)\n",
    "reload(vgg)\n",
    "\n",
    "from utils import load_checkpoint\n",
    "reload(load_checkpoint)\n",
    "\n",
    "from metrics.FID import calculate_frechet_distance\n",
    "\n",
    "import misc\n",
    "reload(misc)\n",
    "\n",
    "import data_copying_tests\n",
    "reload(data_copying_tests)\n",
    "\n",
    "from run_infos import runs"
   ]
  },
  {
   "cell_type": "code",
   "execution_count": 4,
   "id": "varied-kingdom",
   "metadata": {},
   "outputs": [],
   "source": [
    "os.environ[\"CUDA_VISIBLE_DEVICES\"] = \"0\"\n",
    "device = 'cuda'\n",
    "torch.backends.cudnn.benchmark = True"
   ]
  },
  {
   "cell_type": "code",
   "execution_count": 10,
   "id": "royal-shaft",
   "metadata": {},
   "outputs": [],
   "source": [
    "G = misc.construct_generator('../src/configs/CIFAR10/SAGAN.json', device)"
   ]
  },
  {
   "cell_type": "code",
   "execution_count": 11,
   "id": "portuguese-cookbook",
   "metadata": {},
   "outputs": [
    {
     "data": {
      "text/plain": [
       "4386308"
      ]
     },
     "execution_count": 11,
     "metadata": {},
     "output_type": "execute_result"
    }
   ],
   "source": [
    "count_parameters(G)"
   ]
  },
  {
   "cell_type": "code",
   "execution_count": 6,
   "id": "superior-enemy",
   "metadata": {},
   "outputs": [],
   "source": [
    "G = misc.construct_generator('../src/configs/CIFAR10/BigGAN.json', device)"
   ]
  },
  {
   "cell_type": "code",
   "execution_count": 7,
   "id": "front-literature",
   "metadata": {},
   "outputs": [
    {
     "data": {
      "text/plain": [
       "9416196"
      ]
     },
     "execution_count": 7,
     "metadata": {},
     "output_type": "execute_result"
    }
   ],
   "source": [
    "count_parameters(G)"
   ]
  },
  {
   "cell_type": "code",
   "execution_count": 8,
   "id": "powerful-lying",
   "metadata": {},
   "outputs": [],
   "source": [
    "G = misc.construct_generator('../src/configs/CIFAR10/DiffAugGAN(P).json', device)"
   ]
  },
  {
   "cell_type": "code",
   "execution_count": 9,
   "id": "magnetic-layer",
   "metadata": {},
   "outputs": [
    {
     "data": {
      "text/plain": [
       "9416196"
      ]
     },
     "execution_count": 9,
     "metadata": {},
     "output_type": "execute_result"
    }
   ],
   "source": [
    "count_parameters(G)"
   ]
  },
  {
   "cell_type": "code",
   "execution_count": 1,
   "id": "military-watts",
   "metadata": {},
   "outputs": [],
   "source": [
    "def count_parameters(model):\n",
    "    return sum(p.numel() for p in model.parameters() if p.requires_grad)"
   ]
  },
  {
   "cell_type": "code",
   "execution_count": null,
   "id": "adult-bearing",
   "metadata": {},
   "outputs": [],
   "source": []
  }
 ],
 "metadata": {
  "kernelspec": {
   "display_name": "Python 3",
   "language": "python",
   "name": "python3"
  },
  "language_info": {
   "codemirror_mode": {
    "name": "ipython",
    "version": 3
   },
   "file_extension": ".py",
   "mimetype": "text/x-python",
   "name": "python",
   "nbconvert_exporter": "python",
   "pygments_lexer": "ipython3",
   "version": "3.7.10"
  }
 },
 "nbformat": 4,
 "nbformat_minor": 5
}
