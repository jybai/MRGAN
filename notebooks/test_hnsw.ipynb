{
 "cells": [
  {
   "cell_type": "code",
   "execution_count": 14,
   "id": "functioning-flashing",
   "metadata": {},
   "outputs": [],
   "source": [
    "import hnswlib\n",
    "import numpy as np\n",
    "import pickle\n",
    "from time import time"
   ]
  },
  {
   "cell_type": "code",
   "execution_count": 15,
   "id": "greater-tourism",
   "metadata": {},
   "outputs": [],
   "source": [
    "dim = 2048\n",
    "num_elements = 1000"
   ]
  },
  {
   "cell_type": "code",
   "execution_count": 16,
   "id": "different-yesterday",
   "metadata": {},
   "outputs": [],
   "source": [
    "# Generating sample data\n",
    "data = np.float32(np.random.random((num_elements, dim)))\n",
    "ids = np.arange(num_elements)"
   ]
  },
  {
   "cell_type": "code",
   "execution_count": 17,
   "id": "prompt-metabolism",
   "metadata": {},
   "outputs": [],
   "source": [
    "# Declaring index\n",
    "p = hnswlib.Index(space = 'cosine', dim = dim) # possible options are l2, cosine or ip"
   ]
  },
  {
   "cell_type": "code",
   "execution_count": 18,
   "id": "fatal-october",
   "metadata": {},
   "outputs": [],
   "source": [
    "# Initializing index - the maximum number of elements should be known beforehand\n",
    "p.init_index(max_elements = num_elements, ef_construction = 200, M = 16)"
   ]
  },
  {
   "cell_type": "code",
   "execution_count": 19,
   "id": "weird-recommendation",
   "metadata": {},
   "outputs": [],
   "source": [
    "# Element insertion (can be called several times):\n",
    "p.add_items(data, ids)"
   ]
  },
  {
   "cell_type": "code",
   "execution_count": 20,
   "id": "induced-prototype",
   "metadata": {},
   "outputs": [],
   "source": [
    "# Controlling the recall by setting ef:\n",
    "p.set_ef(50) # ef should always be > k"
   ]
  },
  {
   "cell_type": "code",
   "execution_count": 53,
   "id": "bigger-origin",
   "metadata": {},
   "outputs": [
    {
     "name": "stdout",
     "output_type": "stream",
     "text": [
      "0.01730595827102661\n"
     ]
    }
   ],
   "source": [
    "# Query dataset, k - number of closest elements (returns 2 numpy arrays)\n",
    "ts = []\n",
    "for _ in range(100):\n",
    "    start_t = time()\n",
    "    labels, distances = p.knn_query(data, k = 1)\n",
    "    ts.append(time() - start_t)\n",
    "print(np.mean(ts))"
   ]
  },
  {
   "cell_type": "code",
   "execution_count": 54,
   "id": "expensive-correlation",
   "metadata": {},
   "outputs": [
    {
     "name": "stdout",
     "output_type": "stream",
     "text": [
      "0.017650837898254394\n"
     ]
    }
   ],
   "source": [
    "ts = []\n",
    "for _ in range(100):\n",
    "    start_t = time()\n",
    "    np.min(np.matmul((data / np.linalg.norm(data, axis=1, keepdims=True)),\n",
    "                           (data / np.linalg.norm(data, axis=1, keepdims=True)).T), axis=0)\n",
    "    ts.append(time() - start_t)\n",
    "print(np.mean(ts))"
   ]
  },
  {
   "cell_type": "markdown",
   "id": "robust-alexander",
   "metadata": {},
   "source": [
    "Verdict: if we do it classwise then we can significantly speed it up. In that case, hnsw may not be significantly faster."
   ]
  },
  {
   "cell_type": "code",
   "execution_count": null,
   "id": "colored-coast",
   "metadata": {},
   "outputs": [],
   "source": []
  }
 ],
 "metadata": {
  "kernelspec": {
   "display_name": "Python 3",
   "language": "python",
   "name": "python3"
  },
  "language_info": {
   "codemirror_mode": {
    "name": "ipython",
    "version": 3
   },
   "file_extension": ".py",
   "mimetype": "text/x-python",
   "name": "python",
   "nbconvert_exporter": "python",
   "pygments_lexer": "ipython3",
   "version": "3.7.10"
  }
 },
 "nbformat": 4,
 "nbformat_minor": 5
}
